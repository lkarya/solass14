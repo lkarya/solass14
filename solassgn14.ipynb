{
 "cells": [
  {
   "cell_type": "code",
   "execution_count": null,
   "id": "b34bf13f",
   "metadata": {},
   "outputs": [],
   "source": [
    "# What does RGBA stand for?\n",
    "RGBA(Red-Green-Blue-Alpha)\n",
    "\n",
    "# From the Pillow module, how do you get the RGBA value of any images?\n",
    "Create transparent png image with Python – Pillow\n",
    "import the Image module from the Pillow library from PIL import Image.\n",
    "Open any image and get the RAGBAG values. img = Image.open('image.png') ...\n",
    "Change the color. Data will be an Imaging Core object containing thousands of tuples of RGBA values. ...\n",
    "Store the changed image.\n",
    "\n",
    "# What is a box tuple, and how does it work?\n",
    "Many of Pillow's functions and methods take a box tuple argument. \n",
    "This means Pillow is expecting a tuple of four integer coordinates that represent a rectangular region in an image.\n",
    "\n",
    "# Use your image and load in notebook then, How can you find out the width and height of an\n",
    "Image object?\n",
    "\n",
    "# What module contains Pillow’s shape-drawing code?\n",
    "ImageDraw module of the Python image processing library Pillow (PIL) provides many methods for drawing figures, such as circles, squares, and straight lines."
   ]
  }
 ],
 "metadata": {
  "kernelspec": {
   "display_name": "Python 3 (ipykernel)",
   "language": "python",
   "name": "python3"
  },
  "language_info": {
   "codemirror_mode": {
    "name": "ipython",
    "version": 3
   },
   "file_extension": ".py",
   "mimetype": "text/x-python",
   "name": "python",
   "nbconvert_exporter": "python",
   "pygments_lexer": "ipython3",
   "version": "3.9.7"
  }
 },
 "nbformat": 4,
 "nbformat_minor": 5
}
